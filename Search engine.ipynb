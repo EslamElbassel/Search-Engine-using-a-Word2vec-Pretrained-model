{
  "cells": [
    {
      "cell_type": "markdown",
      "metadata": {
        "id": "5jtooZGmArc4"
      },
      "source": [
        "## imports"
      ]
    },
    {
      "cell_type": "code",
      "execution_count": null,
      "metadata": {
        "colab": {
          "base_uri": "https://localhost:8080/"
        },
        "id": "68ti1I7m6t6P",
        "outputId": "021f0364-d004-42b2-80d6-0c83cf89dd37"
      },
      "outputs": [],
      "source": [
        "import nltk\n",
        "import gensim\n",
        "import numpy as np\n",
        "import wikipediaapi\n",
        "import os, sys, io, re\n",
        "import gensim.downloader as api\n",
        "from gensim.models.keyedvectors import KeyedVectors\n",
        "nltk.download('punkt')"
      ]
    },
    {
      "cell_type": "markdown",
      "metadata": {
        "id": "ckUV7RDacu7c"
      },
      "source": [
        "# **Loading Data**"
      ]
    },
    {
      "cell_type": "code",
      "execution_count": 5,
      "metadata": {
        "id": "iKpD_mvI6fH1"
      },
      "outputs": [],
      "source": [
        "# documents titles for five domains [football, operating systems, actors, car brands, diseases]\n",
        "documents_titles = [\"FC Barcelona\", \"real madrid\", \"Manchester United\", \"Arsenal\", \"windows\", \"linux\", \"Android operating system\", \"macos\",\n",
        "             \"Tom Hanks\", \"Robert De Niro\", \"Tom Cruise\", \"Keanu Reeves\", \"mercedes benz\", \"BMW\", \"lamborghini\", \"ferrari\",\n",
        "             \"allergies\", \"Conjunctivitis\", \"covid-19\", \"Influenza\"]"
      ]
    },
    {
      "cell_type": "code",
      "execution_count": 6,
      "metadata": {
        "id": "dbDDE60GhSje"
      },
      "outputs": [],
      "source": [
        "# Downloading documents \n",
        "wiki = wikipediaapi.Wikipedia('en')\n",
        "\n",
        "documents = []  # for saving all Documents \n",
        "for title in documents_titles:\n",
        "  page = wiki.page(title)\n",
        "  document = page.text[0:3500]  # geting the fisrt 3500 text of the page ~ 570 word\n",
        "  documents.append(document)\n"
      ]
    },
    {
      "cell_type": "markdown",
      "metadata": {
        "id": "mAREvFEF6Txu"
      },
      "source": [
        "## Functions"
      ]
    },
    {
      "cell_type": "code",
      "execution_count": 7,
      "metadata": {
        "id": "mMvZziln3cvn"
      },
      "outputs": [],
      "source": [
        "def normalization(document):\n",
        "  '''\n",
        "  Normalizaing the documet meanning that make all words lower-case,\n",
        "   removing numbers, spaces and punctuations.  \n",
        "\n",
        "  Parameters:\n",
        "        (document): The document we want to normalize.\n",
        "  Returns:\n",
        "        str:  normalized string \n",
        "  ''' \n",
        "  \n",
        "  lower_text = document.lower()   # lowercased string \n",
        "  no_number_text = re.sub(r'\\d+','',lower_text)  # removing numbers\n",
        "  no_punctuation_text = re.sub(r'[^\\w\\s]', '', no_number_text)  # removing punctuation\n",
        "  no_spaces_text = no_punctuation_text.strip()  # remove leading and trailing spaces\n",
        "\n",
        "  return no_spaces_text"
      ]
    },
    {
      "cell_type": "code",
      "execution_count": 8,
      "metadata": {
        "id": "Dy-Mx1Vs3f67"
      },
      "outputs": [],
      "source": [
        "def word_embedding(document, model):\n",
        "  '''\n",
        "  Creating a word embedding for each word in a documnet.\n",
        "\n",
        "  Parameters:\n",
        "        (document): The document that we want to create embeddings for it's words.\n",
        "        (model): Pretrained model used to get the embeddings.\n",
        "  Returns:\n",
        "        list: a float list contain the word embedding vector for each word in document.      \n",
        "  '''\n",
        "  words_embeddings = []\n",
        "   \n",
        "  normalized_document = normalization(document)\n",
        "  tokens = nltk.word_tokenize(normalized_document)\n",
        "  \n",
        "  for word in tokens:\n",
        "    if word in model.vocab:\n",
        "      words_embeddings.append(model[word])\n",
        "\n",
        "  return words_embeddings"
      ]
    },
    {
      "cell_type": "code",
      "execution_count": 9,
      "metadata": {
        "id": "xbS2fhODLkQ4"
      },
      "outputs": [],
      "source": [
        "def document_embedding(words_embeddings):  \n",
        "  '''\n",
        "  Create an embedding representation for a document \n",
        "  by calculating the average of words embedding vectors in a document.\n",
        "\n",
        "  Parameters:\n",
        "        (words_embeddings): a list containing the word embedding vectors for all the words in the document.\n",
        "  Returns:\n",
        "        list: a float list contains therepresentation for the document.      \n",
        "  '''\n",
        "  doc_embedding = []\n",
        "\n",
        "  # calculating average of words vectors in a document\n",
        "  for i in range(len(words_embeddings[0])):   # len(words_embeddings of[*]) = any embedding vector lenght = 300 \n",
        "    sum = 0\n",
        "    for j in range(len(words_embeddings)):    # len(words_embeddings) = number of words in the document after normalization \n",
        "      sum += words_embeddings[j][i]\n",
        "    doc_embedding.append(sum / len(words_embeddings))  \n",
        "  \n",
        "  return doc_embedding"
      ]
    },
    {
      "cell_type": "code",
      "execution_count": 36,
      "metadata": {
        "id": "nNe0C_kcjXVd"
      },
      "outputs": [],
      "source": [
        "def searching(user_input, documents, model):\n",
        "  '''\n",
        "  Performs the search operation for the users search sentence by generating \n",
        "  its embedding then calculate the euclidean distance between the sentence and all the documents embeddings.\n",
        "\n",
        "  Parameters:\n",
        "        (user_input): The search sentence that we want to perform the search opetarion for.\n",
        "        (documents): All the documents that we heve in our search engine.\n",
        "        (model): Pretrained model used to get the embedding of the user sentence.      \n",
        "  '''\n",
        "  input_embedding = np.array(document_embedding(word_embedding(user_input, model)))  # generating the enbedding of user sentence\n",
        "\n",
        "  distances = []\n",
        "\n",
        "  # Reading the embedding representation of each document that we calculated and save on files before\n",
        "  # first we read the embedings as a string then we convert it to list of float values.\n",
        "  # Then we calculate the euclidean distance between the sentence and each document embedding.\n",
        "  number_of_documents = len(documents)\n",
        "  \n",
        "  for i in range(number_of_documents): \n",
        "    f = open(\"document %s .txt\" % (str(i+1)), \"r\")\n",
        "    string = f.read()\n",
        "    string_list = string.strip('][').split(', ')\n",
        "    doc_vector = np.array([float(element) for element in string_list])  # The embedding vector of the document\n",
        "\n",
        "    # Calculate the euclidean distance between the sentence and the document embedding\n",
        "    distances.append(np.linalg.norm(doc_vector - input_embedding))\n",
        "\n",
        "  for i in range(number_of_documents):\n",
        "    most_similar = min(distances)\n",
        "    doc_index = distances.index(most_similar)  # get the index of the mininum distance(most_similar) \n",
        "    \n",
        "    if most_similar < 1.85:  # 1.9 is distance threshold \n",
        "      del distances[doc_index]\n",
        "      print(i, documents[doc_index][:500], \"\\n\")  # Display the search results"
      ]
    },
    {
      "cell_type": "markdown",
      "metadata": {
        "id": "-9wEf9KIdz3z"
      },
      "source": [
        "# **Download The Model**"
      ]
    },
    {
      "cell_type": "code",
      "execution_count": null,
      "metadata": {
        "colab": {
          "base_uri": "https://localhost:8080/"
        },
        "id": "6svfZc8Um_yH",
        "outputId": "cd5b2adf-a953-42ae-b389-51d2cf2b4fb7"
      },
      "outputs": [
        {
          "name": "stdout",
          "output_type": "stream",
          "text": [
            "['fasttext-wiki-news-subwords-300', 'conceptnet-numberbatch-17-06-300', 'word2vec-ruscorpora-300', 'word2vec-google-news-300', 'glove-wiki-gigaword-50', 'glove-wiki-gigaword-100', 'glove-wiki-gigaword-200', 'glove-wiki-gigaword-300', 'glove-twitter-25', 'glove-twitter-50', 'glove-twitter-100', 'glove-twitter-200', '__testing_word2vec-matrix-synopsis']\n"
          ]
        }
      ],
      "source": [
        "# Display all the pretrained models names in gensim\n",
        "print(list(api.info()['models'].keys()))"
      ]
    },
    {
      "cell_type": "code",
      "execution_count": null,
      "metadata": {
        "colab": {
          "base_uri": "https://localhost:8080/",
          "height": 35
        },
        "id": "ip4eiOBRvUoc",
        "outputId": "28e903e9-9111-4091-b288-016219665aad"
      },
      "outputs": [
        {
          "data": {
            "application/vnd.google.colaboratory.intrinsic+json": {
              "type": "string"
            },
            "text/plain": [
              "'/content/drive/MyDrive'"
            ]
          },
          "execution_count": 14,
          "metadata": {},
          "output_type": "execute_result"
        }
      ],
      "source": [
        "# changing the download directory\n",
        "gensim.downloader.base_dir = \"/content/drive/MyDrive\"\n",
        "gensim.downloader.base_dir"
      ]
    },
    {
      "cell_type": "code",
      "execution_count": null,
      "metadata": {
        "colab": {
          "base_uri": "https://localhost:8080/"
        },
        "id": "LkmPdhuDoZ1X",
        "outputId": "76f0ebcd-a1a6-4894-a774-d54257173673"
      },
      "outputs": [
        {
          "name": "stdout",
          "output_type": "stream",
          "text": [
            "[==================================================] 100.0% 1662.8/1662.8MB downloaded\n"
          ]
        }
      ],
      "source": [
        "# Model downloading \n",
        "model = gensim.downloader.load('word2vec-google-news-300', return_path=True)"
      ]
    },
    {
      "cell_type": "code",
      "execution_count": 11,
      "metadata": {
        "id": "gQdZM81TKgjw"
      },
      "outputs": [],
      "source": [
        "# Model loading \n",
        "model1 = KeyedVectors.load_word2vec_format('/content/drive/MyDrive/word2vec-google-news-300/word2vec-google-news-300.gz', binary=True)"
      ]
    },
    {
      "cell_type": "markdown",
      "metadata": {
        "id": "twdlrW141qtT"
      },
      "source": [
        "# **Training**"
      ]
    },
    {
      "cell_type": "markdown",
      "metadata": {
        "id": "ppMCf5Q2za4u"
      },
      "source": [
        "## Extracting words & documents embeddings "
      ]
    },
    {
      "cell_type": "code",
      "execution_count": 12,
      "metadata": {
        "id": "sX4zBBLsJ3F2"
      },
      "outputs": [],
      "source": [
        "# create a final embedding representation for each document\n",
        "counter = 1\n",
        "for document in documents:\n",
        "  words_embeddings = word_embedding(document, model1)   # Extracting words embeddings vectors for each word in the document\n",
        "  doc_embedding = document_embedding(words_embeddings)  # Embedding representation for the document using average \n",
        "\n",
        "  # Save the final representation for each document in a file with the name \"document # .txt\" \n",
        "  f = io.open(\"document %s .txt\" % (str(counter)), \"w\")\n",
        "  f.write(str(doc_embedding))  # saving the embedding of the document in a file \n",
        "  f.close()\n",
        "\n",
        "  counter += 1\n"
      ]
    },
    {
      "cell_type": "markdown",
      "metadata": {
        "id": "fZ238hmo1ZR8"
      },
      "source": [
        "# **Testing**"
      ]
    },
    {
      "cell_type": "markdown",
      "metadata": {
        "id": "xqBULaL7mRLX"
      },
      "source": [
        "## Perfoming search operation for Different inputs in different domains"
      ]
    },
    {
      "cell_type": "code",
      "execution_count": 37,
      "metadata": {
        "colab": {
          "base_uri": "https://localhost:8080/"
        },
        "id": "Mclipm48mLOP",
        "outputId": "0c832ed6-11b5-4470-9de8-8c47a5e2ce8d"
      },
      "outputs": [
        {
          "name": "stdout",
          "output_type": "stream",
          "text": [
            "______First search results______\n",
            "0 Manchester United Football Club is a professional football club based in Old Trafford, Greater Manchester, England, that competes in the Premier League, the top flight of English football. Nicknamed the Red Devils, the club was founded as Newton Heath LYR Football Club in 1878, but changed its name to Manchester United in 1902. The club moved from Newton Heath to its current stadium, Old Trafford, in 1910.\n",
            "Manchester United have won the joint-record number of trophies in English club football, i \n",
            "\n",
            "1 Real Madrid Club de Fútbol (Spanish pronunciation: [reˈal maˈðɾið ˈkluβ ðe ˈfuðβol] (listen), meaning Royal Madrid Football Club), commonly referred to as Real Madrid or simply Real, is a Spanish professional football club based in Madrid.\n",
            "Founded on 6 March 1902 as Madrid Football Club, the club has traditionally worn a white home kit since inception. The honorific title real is Spanish for \"royal\" and was bestowed to the club by King Alfonso XIII in 1920 together with the royal crown in the em \n",
            "\n",
            "2 Futbol Club Barcelona (Catalan pronunciation: [fubˈbɔl ˈklub bəɾsəˈlonə] (listen)), commonly referred to as Barcelona and colloquially known as Barça ([ˈbaɾsə]), is a professional football club based in Barcelona, Spain, that competes in La Liga, the top flight of Spanish football.\n",
            "Founded in 1899 by a group of Swiss, Spanish, German and English footballers led by Joan Gamper, the club has become a symbol of Catalan culture and Catalanism, hence the motto \"Més que un club\" (\"More than a club\").  \n",
            "\n",
            "3 Thomas Jeffrey Hanks (born July 9, 1956) is an American actor and filmmaker. Known for both his comedic and dramatic roles, he is one of the most popular and recognizable film stars worldwide, and is regarded as an American cultural icon. Hanks's films have grossed more than $4.9 billion in North America and more than $9.96 billion worldwide, making him the fourth-highest-grossing actor in North America.Hanks made his breakthrough with leading roles in a series of comedy films which received pos \n",
            "\n",
            "4 Android is a mobile operating system based on a modified version of the Linux kernel and other open source software, designed primarily for touchscreen mobile devices such as smartphones and tablets. Android is developed by a consortium of developers known as the Open Handset Alliance and commercially sponsored by Google. It was unveiled in November 2007, with the first commercial Android device, the HTC Dream, being launched in September 2008.\n",
            "Most versions of Android are proprietary. The core  \n",
            "\n",
            "5 Linux ( (listen) LEE-nuuks or  LIN-uuks) is a family of open-source Unix-like operating systems based on the Linux kernel, an operating system kernel first released on September 17, 1991, by Linus Torvalds. Linux is typically packaged in a Linux distribution.\n",
            "Distributions include the Linux kernel and supporting system software and libraries, many of which are provided by the GNU Project. Many Linux distributions use the word \"Linux\" in their name, but the Free Software Foundation uses the name  \n",
            "\n",
            "6 Robert Anthony De Niro Jr. ( də NEER-oh, Italian: [de ˈniːro]; born August 17, 1943) is an American actor, producer, and director. He is particularly known for his nine collaborations with filmmaker Martin Scorsese, and is the recipient of various accolades, including two Academy Awards, a Golden Globe Award, the Cecil B. DeMille Award, and a Screen Actors Guild Life Achievement Award. In 2009, De Niro received the Kennedy Center Honor, and received a Presidential Medal of Freedom from U.S. Pres \n",
            "\n",
            "7 Android is a mobile operating system based on a modified version of the Linux kernel and other open source software, designed primarily for touchscreen mobile devices such as smartphones and tablets. Android is developed by a consortium of developers known as the Open Handset Alliance and commercially sponsored by Google. It was unveiled in November 2007, with the first commercial Android device, the HTC Dream, being launched in September 2008.\n",
            "Most versions of Android are proprietary. The core  \n",
            "\n",
            "8 Linux ( (listen) LEE-nuuks or  LIN-uuks) is a family of open-source Unix-like operating systems based on the Linux kernel, an operating system kernel first released on September 17, 1991, by Linus Torvalds. Linux is typically packaged in a Linux distribution.\n",
            "Distributions include the Linux kernel and supporting system software and libraries, many of which are provided by the GNU Project. Many Linux distributions use the word \"Linux\" in their name, but the Free Software Foundation uses the name  \n",
            "\n",
            "9 Linux ( (listen) LEE-nuuks or  LIN-uuks) is a family of open-source Unix-like operating systems based on the Linux kernel, an operating system kernel first released on September 17, 1991, by Linus Torvalds. Linux is typically packaged in a Linux distribution.\n",
            "Distributions include the Linux kernel and supporting system software and libraries, many of which are provided by the GNU Project. Many Linux distributions use the word \"Linux\" in their name, but the Free Software Foundation uses the name  \n",
            "\n",
            "10 Linux ( (listen) LEE-nuuks or  LIN-uuks) is a family of open-source Unix-like operating systems based on the Linux kernel, an operating system kernel first released on September 17, 1991, by Linus Torvalds. Linux is typically packaged in a Linux distribution.\n",
            "Distributions include the Linux kernel and supporting system software and libraries, many of which are provided by the GNU Project. Many Linux distributions use the word \"Linux\" in their name, but the Free Software Foundation uses the name  \n",
            "\n",
            "11 Microsoft Windows, commonly referred to as Windows, is a group of several proprietary graphical operating system families, all of which are developed and marketed by Microsoft. Each family caters to a certain sector of the computing industry. Active Microsoft Windows families include Windows NT and Windows IoT; these may encompass subfamilies, (e.g. Windows Server or Windows Embedded Compact) (Windows CE). Defunct Microsoft Windows families include Windows 9x, Windows Mobile and Windows Phone.\n",
            "M \n",
            "\n",
            "12 Futbol Club Barcelona (Catalan pronunciation: [fubˈbɔl ˈklub bəɾsəˈlonə] (listen)), commonly referred to as Barcelona and colloquially known as Barça ([ˈbaɾsə]), is a professional football club based in Barcelona, Spain, that competes in La Liga, the top flight of Spanish football.\n",
            "Founded in 1899 by a group of Swiss, Spanish, German and English footballers led by Joan Gamper, the club has become a symbol of Catalan culture and Catalanism, hence the motto \"Més que un club\" (\"More than a club\").  \n",
            "\n",
            "13 Manchester United Football Club is a professional football club based in Old Trafford, Greater Manchester, England, that competes in the Premier League, the top flight of English football. Nicknamed the Red Devils, the club was founded as Newton Heath LYR Football Club in 1878, but changed its name to Manchester United in 1902. The club moved from Newton Heath to its current stadium, Old Trafford, in 1910.\n",
            "Manchester United have won the joint-record number of trophies in English club football, i \n",
            "\n",
            "14 Real Madrid Club de Fútbol (Spanish pronunciation: [reˈal maˈðɾið ˈkluβ ðe ˈfuðβol] (listen), meaning Royal Madrid Football Club), commonly referred to as Real Madrid or simply Real, is a Spanish professional football club based in Madrid.\n",
            "Founded on 6 March 1902 as Madrid Football Club, the club has traditionally worn a white home kit since inception. The honorific title real is Spanish for \"royal\" and was bestowed to the club by King Alfonso XIII in 1920 together with the royal crown in the em \n",
            "\n",
            "15 Futbol Club Barcelona (Catalan pronunciation: [fubˈbɔl ˈklub bəɾsəˈlonə] (listen)), commonly referred to as Barcelona and colloquially known as Barça ([ˈbaɾsə]), is a professional football club based in Barcelona, Spain, that competes in La Liga, the top flight of Spanish football.\n",
            "Founded in 1899 by a group of Swiss, Spanish, German and English footballers led by Joan Gamper, the club has become a symbol of Catalan culture and Catalanism, hence the motto \"Més que un club\" (\"More than a club\").  \n",
            "\n",
            "16 Manchester United Football Club is a professional football club based in Old Trafford, Greater Manchester, England, that competes in the Premier League, the top flight of English football. Nicknamed the Red Devils, the club was founded as Newton Heath LYR Football Club in 1878, but changed its name to Manchester United in 1902. The club moved from Newton Heath to its current stadium, Old Trafford, in 1910.\n",
            "Manchester United have won the joint-record number of trophies in English club football, i \n",
            "\n",
            "17 Real Madrid Club de Fútbol (Spanish pronunciation: [reˈal maˈðɾið ˈkluβ ðe ˈfuðβol] (listen), meaning Royal Madrid Football Club), commonly referred to as Real Madrid or simply Real, is a Spanish professional football club based in Madrid.\n",
            "Founded on 6 March 1902 as Madrid Football Club, the club has traditionally worn a white home kit since inception. The honorific title real is Spanish for \"royal\" and was bestowed to the club by King Alfonso XIII in 1920 together with the royal crown in the em \n",
            "\n",
            "18 Real Madrid Club de Fútbol (Spanish pronunciation: [reˈal maˈðɾið ˈkluβ ðe ˈfuðβol] (listen), meaning Royal Madrid Football Club), commonly referred to as Real Madrid or simply Real, is a Spanish professional football club based in Madrid.\n",
            "Founded on 6 March 1902 as Madrid Football Club, the club has traditionally worn a white home kit since inception. The honorific title real is Spanish for \"royal\" and was bestowed to the club by King Alfonso XIII in 1920 together with the royal crown in the em \n",
            "\n",
            "19 Futbol Club Barcelona (Catalan pronunciation: [fubˈbɔl ˈklub bəɾsəˈlonə] (listen)), commonly referred to as Barcelona and colloquially known as Barça ([ˈbaɾsə]), is a professional football club based in Barcelona, Spain, that competes in La Liga, the top flight of Spanish football.\n",
            "Founded in 1899 by a group of Swiss, Spanish, German and English footballers led by Joan Gamper, the club has become a symbol of Catalan culture and Catalanism, hence the motto \"Més que un club\" (\"More than a club\").  \n",
            "\n"
          ]
        }
      ],
      "source": [
        "user_input1 = \"Mohamed salah's goal in Manchester united\"\n",
        "print(\"______First search results______\")\n",
        "searching(user_input1, documents, model1)"
      ]
    },
    {
      "cell_type": "code",
      "execution_count": 38,
      "metadata": {
        "colab": {
          "base_uri": "https://localhost:8080/"
        },
        "id": "PPFqqRK5mM_n",
        "outputId": "b9f55d89-ffa2-4633-e6b0-6bdb22c9771a"
      },
      "outputs": [
        {
          "name": "stdout",
          "output_type": "stream",
          "text": [
            "______Second search results______\n",
            "0 Keanu Charles Reeves ( kee-AH-noo; born September 2, 1964) is a Canadian actor. Born in Beirut and raised in Toronto, Reeves began acting in theatre productions and in television films before making his feature film debut in Youngblood (1986). He had his breakthrough role in the science fiction comedy Bill & Ted's Excellent Adventure (1989), and he reprised his role in its sequels. He gained praise for playing a hustler in the independent drama My Own Private Idaho (1991), and established himsel \n",
            "\n",
            "1 Robert Anthony De Niro Jr. ( də NEER-oh, Italian: [de ˈniːro]; born August 17, 1943) is an American actor, producer, and director. He is particularly known for his nine collaborations with filmmaker Martin Scorsese, and is the recipient of various accolades, including two Academy Awards, a Golden Globe Award, the Cecil B. DeMille Award, and a Screen Actors Guild Life Achievement Award. In 2009, De Niro received the Kennedy Center Honor, and received a Presidential Medal of Freedom from U.S. Pres \n",
            "\n",
            "2 Thomas Jeffrey Hanks (born July 9, 1956) is an American actor and filmmaker. Known for both his comedic and dramatic roles, he is one of the most popular and recognizable film stars worldwide, and is regarded as an American cultural icon. Hanks's films have grossed more than $4.9 billion in North America and more than $9.96 billion worldwide, making him the fourth-highest-grossing actor in North America.Hanks made his breakthrough with leading roles in a series of comedy films which received pos \n",
            "\n",
            "3 Thomas Jeffrey Hanks (born July 9, 1956) is an American actor and filmmaker. Known for both his comedic and dramatic roles, he is one of the most popular and recognizable film stars worldwide, and is regarded as an American cultural icon. Hanks's films have grossed more than $4.9 billion in North America and more than $9.96 billion worldwide, making him the fourth-highest-grossing actor in North America.Hanks made his breakthrough with leading roles in a series of comedy films which received pos \n",
            "\n",
            "4 Android is a mobile operating system based on a modified version of the Linux kernel and other open source software, designed primarily for touchscreen mobile devices such as smartphones and tablets. Android is developed by a consortium of developers known as the Open Handset Alliance and commercially sponsored by Google. It was unveiled in November 2007, with the first commercial Android device, the HTC Dream, being launched in September 2008.\n",
            "Most versions of Android are proprietary. The core  \n",
            "\n",
            "5 Thomas Jeffrey Hanks (born July 9, 1956) is an American actor and filmmaker. Known for both his comedic and dramatic roles, he is one of the most popular and recognizable film stars worldwide, and is regarded as an American cultural icon. Hanks's films have grossed more than $4.9 billion in North America and more than $9.96 billion worldwide, making him the fourth-highest-grossing actor in North America.Hanks made his breakthrough with leading roles in a series of comedy films which received pos \n",
            "\n",
            "6 Android is a mobile operating system based on a modified version of the Linux kernel and other open source software, designed primarily for touchscreen mobile devices such as smartphones and tablets. Android is developed by a consortium of developers known as the Open Handset Alliance and commercially sponsored by Google. It was unveiled in November 2007, with the first commercial Android device, the HTC Dream, being launched in September 2008.\n",
            "Most versions of Android are proprietary. The core  \n",
            "\n",
            "7 Thomas Jeffrey Hanks (born July 9, 1956) is an American actor and filmmaker. Known for both his comedic and dramatic roles, he is one of the most popular and recognizable film stars worldwide, and is regarded as an American cultural icon. Hanks's films have grossed more than $4.9 billion in North America and more than $9.96 billion worldwide, making him the fourth-highest-grossing actor in North America.Hanks made his breakthrough with leading roles in a series of comedy films which received pos \n",
            "\n",
            "8 Microsoft Windows, commonly referred to as Windows, is a group of several proprietary graphical operating system families, all of which are developed and marketed by Microsoft. Each family caters to a certain sector of the computing industry. Active Microsoft Windows families include Windows NT and Windows IoT; these may encompass subfamilies, (e.g. Windows Server or Windows Embedded Compact) (Windows CE). Defunct Microsoft Windows families include Windows 9x, Windows Mobile and Windows Phone.\n",
            "M \n",
            "\n",
            "9 Linux ( (listen) LEE-nuuks or  LIN-uuks) is a family of open-source Unix-like operating systems based on the Linux kernel, an operating system kernel first released on September 17, 1991, by Linus Torvalds. Linux is typically packaged in a Linux distribution.\n",
            "Distributions include the Linux kernel and supporting system software and libraries, many of which are provided by the GNU Project. Many Linux distributions use the word \"Linux\" in their name, but the Free Software Foundation uses the name  \n",
            "\n",
            "10 Microsoft Windows, commonly referred to as Windows, is a group of several proprietary graphical operating system families, all of which are developed and marketed by Microsoft. Each family caters to a certain sector of the computing industry. Active Microsoft Windows families include Windows NT and Windows IoT; these may encompass subfamilies, (e.g. Windows Server or Windows Embedded Compact) (Windows CE). Defunct Microsoft Windows families include Windows 9x, Windows Mobile and Windows Phone.\n",
            "M \n",
            "\n",
            "11 An arsenal is a place where arms and ammunition are made, maintained and repaired, stored, or issued, in any combination, whether privately or publicly owned. Arsenal and armoury (British English) or armory (American English) are mostly regarded as synonyms, although subtle differences in usage exist.\n",
            "A sub-armory is a place of temporary storage or carrying of weapons and ammunition, such as any temporary post or patrol vehicle that is only operational in certain times of the day.\n",
            "\n",
            "Etymology\n",
            "The \n",
            "\n",
            "12 Real Madrid Club de Fútbol (Spanish pronunciation: [reˈal maˈðɾið ˈkluβ ðe ˈfuðβol] (listen), meaning Royal Madrid Football Club), commonly referred to as Real Madrid or simply Real, is a Spanish professional football club based in Madrid.\n",
            "Founded on 6 March 1902 as Madrid Football Club, the club has traditionally worn a white home kit since inception. The honorific title real is Spanish for \"royal\" and was bestowed to the club by King Alfonso XIII in 1920 together with the royal crown in the em \n",
            "\n",
            "13 Manchester United Football Club is a professional football club based in Old Trafford, Greater Manchester, England, that competes in the Premier League, the top flight of English football. Nicknamed the Red Devils, the club was founded as Newton Heath LYR Football Club in 1878, but changed its name to Manchester United in 1902. The club moved from Newton Heath to its current stadium, Old Trafford, in 1910.\n",
            "Manchester United have won the joint-record number of trophies in English club football, i \n",
            "\n",
            "14 Real Madrid Club de Fútbol (Spanish pronunciation: [reˈal maˈðɾið ˈkluβ ðe ˈfuðβol] (listen), meaning Royal Madrid Football Club), commonly referred to as Real Madrid or simply Real, is a Spanish professional football club based in Madrid.\n",
            "Founded on 6 March 1902 as Madrid Football Club, the club has traditionally worn a white home kit since inception. The honorific title real is Spanish for \"royal\" and was bestowed to the club by King Alfonso XIII in 1920 together with the royal crown in the em \n",
            "\n",
            "15 Futbol Club Barcelona (Catalan pronunciation: [fubˈbɔl ˈklub bəɾsəˈlonə] (listen)), commonly referred to as Barcelona and colloquially known as Barça ([ˈbaɾsə]), is a professional football club based in Barcelona, Spain, that competes in La Liga, the top flight of Spanish football.\n",
            "Founded in 1899 by a group of Swiss, Spanish, German and English footballers led by Joan Gamper, the club has become a symbol of Catalan culture and Catalanism, hence the motto \"Més que un club\" (\"More than a club\").  \n",
            "\n"
          ]
        }
      ],
      "source": [
        "user_input2 = \"John Wick movie trailer\"\n",
        "print(\"______Second search results______\")\n",
        "searching(user_input2, documents, model1)"
      ]
    },
    {
      "cell_type": "code",
      "execution_count": 39,
      "metadata": {
        "colab": {
          "base_uri": "https://localhost:8080/"
        },
        "id": "UsbNcoZQmN7f",
        "outputId": "cf398a13-5390-4984-f2b9-b636f0217a8b"
      },
      "outputs": [
        {
          "name": "stdout",
          "output_type": "stream",
          "text": [
            "______Third search results______\n",
            "0 Influenza, commonly known as \"the flu\", is an infectious disease caused by influenza viruses. Symptoms range from mild to severe and often include fever, runny nose, sore throat, muscle pain, headache, coughing, and fatigue. These symptoms begin from one to four days after exposure to the virus (typically two days) and last for about 2–8 days. Diarrhea and vomiting can occur, particularly in children. Influenza may progress to pneumonia, which can be caused by the virus or by a subsequent bacter \n",
            "\n",
            "1 Coronavirus disease 2019 (COVID-19) is a contagious disease caused by a virus, the severe acute respiratory syndrome coronavirus 2 (SARS-CoV-2). The first known case was identified in Wuhan, China, in December 2019. The disease has since spread worldwide, leading to the ongoing COVID-19 pandemic.Symptoms of COVID‑19 are variable, but often include fever, cough, headache, fatigue, breathing difficulties, loss of smell, and loss of taste. Symptoms may begin one to fourteen days after exposure to t \n",
            "\n",
            "2 Conjunctivitis, also known as pink eye, is inflammation of the outermost layer of the white part of the eye and the inner surface of the eyelid. It makes the eye appear pink or reddish. Pain, burning, scratchiness, or itchiness may occur. The affected eye may have increased tears or be \"stuck shut\" in the morning. Swelling of the white part of the eye may also occur. Itching is more common in cases due to allergies. Conjunctivitis can affect one or both eyes.The most common infectious causes are \n",
            "\n",
            "3 An arsenal is a place where arms and ammunition are made, maintained and repaired, stored, or issued, in any combination, whether privately or publicly owned. Arsenal and armoury (British English) or armory (American English) are mostly regarded as synonyms, although subtle differences in usage exist.\n",
            "A sub-armory is a place of temporary storage or carrying of weapons and ammunition, such as any temporary post or patrol vehicle that is only operational in certain times of the day.\n",
            "\n",
            "Etymology\n",
            "The \n",
            "\n",
            "4 Ferrari S.p.A. (; Italian: [ferˈraːri]) is an Italian luxury sports car manufacturer based in Maranello, Italy. Founded by Enzo Ferrari in 1939 from the Alfa Romeo racing division as Auto Avio Costruzioni, the company built its first car in 1940, and produced its first Ferrari-badged car in 1947.\n",
            "Fiat S.p.A. acquired 50% of Ferrari in 1969 and expanded its stake to 90% in 1988. In October 2014, Fiat Chrysler Automobiles (FCA) announced its intentions to separate Ferrari S.p.A. from FCA; as of th \n",
            "\n"
          ]
        }
      ],
      "source": [
        "user_input3 = \"covid-19 cases number\"\n",
        "print(\"______Third search results______\")\n",
        "searching(user_input3, documents, model1)"
      ]
    }
  ],
  "metadata": {
    "colab": {
      "collapsed_sections": [],
      "name": "NLP_Assignment2.ipynb",
      "provenance": []
    },
    "kernelspec": {
      "display_name": "Python 3",
      "name": "python3"
    },
    "language_info": {
      "name": "python"
    }
  },
  "nbformat": 4,
  "nbformat_minor": 0
}
